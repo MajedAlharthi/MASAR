{
  "nbformat": 4,
  "nbformat_minor": 0,
  "metadata": {
    "colab": {
      "provenance": [],
      "toc_visible": true,
      "include_colab_link": true
    },
    "kernelspec": {
      "name": "python3",
      "display_name": "Python 3"
    },
    "language_info": {
      "name": "python"
    }
  },
  "cells": [
    {
      "cell_type": "markdown",
      "metadata": {
        "id": "view-in-github",
        "colab_type": "text"
      },
      "source": [
        "<a href=\"https://colab.research.google.com/github/MajedAlharthi/MASAR/blob/main/First_Code_Using_Colab.ipynb\" target=\"_parent\"><img src=\"https://colab.research.google.com/assets/colab-badge.svg\" alt=\"Open In Colab\"/></a>"
      ]
    },
    {
      "cell_type": "markdown",
      "source": [
        "# First code and examples"
      ],
      "metadata": {
        "id": "-lfuiNwLbSUX"
      }
    },
    {
      "cell_type": "code",
      "execution_count": null,
      "metadata": {
        "colab": {
          "base_uri": "https://localhost:8080/"
        },
        "id": "LZLnUkvCavD9",
        "outputId": "8f07d67a-b68e-4a3a-d025-0701f8372551"
      },
      "outputs": [
        {
          "output_type": "stream",
          "name": "stdout",
          "text": [
            "Hello Masar!\n"
          ]
        }
      ],
      "source": [
        "# first coding using colab\n",
        "\n",
        "print(\"Hello Masar!\")\n"
      ]
    },
    {
      "cell_type": "markdown",
      "source": [
        "## Simple Examples"
      ],
      "metadata": {
        "id": "rvcHtCW2bby_"
      }
    },
    {
      "cell_type": "code",
      "source": [
        "# Define a variable and print its value\n",
        "x = 5\n",
        "print(x)\n"
      ],
      "metadata": {
        "colab": {
          "base_uri": "https://localhost:8080/"
        },
        "id": "u7vWty1odRKu",
        "outputId": "7d6f0b23-77b2-4f11-d3e2-47ff6f72d51e"
      },
      "execution_count": null,
      "outputs": [
        {
          "output_type": "stream",
          "name": "stdout",
          "text": [
            "5\n"
          ]
        }
      ]
    },
    {
      "cell_type": "code",
      "source": [
        "# Perform a simple calculation and print the result\n",
        "y = x + 3\n",
        "print(y)"
      ],
      "metadata": {
        "colab": {
          "base_uri": "https://localhost:8080/"
        },
        "id": "GlsFpzYpdUok",
        "outputId": "e21bb6e1-90b9-440c-c883-030e32ec5f27"
      },
      "execution_count": null,
      "outputs": [
        {
          "output_type": "stream",
          "name": "stdout",
          "text": [
            "8\n"
          ]
        }
      ]
    },
    {
      "cell_type": "markdown",
      "source": [
        "# Print a simple message"
      ],
      "metadata": {
        "id": "jZDXnrWjdewD"
      }
    },
    {
      "cell_type": "code",
      "source": [
        "# Print a simple message\n",
        "print(\"IF YOU CAN DREAM IT, YOU CAN DO IT\")"
      ],
      "metadata": {
        "id": "3i-IJBZobjzF",
        "colab": {
          "base_uri": "https://localhost:8080/"
        },
        "outputId": "90632dbc-df3e-4a5d-81fe-3d49ad308a8e"
      },
      "execution_count": 1,
      "outputs": [
        {
          "output_type": "stream",
          "name": "stdout",
          "text": [
            "IF YOU CAN DREAM IT, YOU CAN DO IT\n"
          ]
        }
      ]
    }
  ]
}