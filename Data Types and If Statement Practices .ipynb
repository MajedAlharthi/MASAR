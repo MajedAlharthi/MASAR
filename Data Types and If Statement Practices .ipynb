{
  "nbformat": 4,
  "nbformat_minor": 0,
  "metadata": {
    "colab": {
      "provenance": [],
      "toc_visible": true,
      "authorship_tag": "ABX9TyMfE8VDvla9HQ+OVk2zw5wB",
      "include_colab_link": true
    },
    "kernelspec": {
      "name": "python3",
      "display_name": "Python 3"
    },
    "language_info": {
      "name": "python"
    }
  },
  "cells": [
    {
      "cell_type": "markdown",
      "metadata": {
        "id": "view-in-github",
        "colab_type": "text"
      },
      "source": [
        "<a href=\"https://colab.research.google.com/github/MajedAlharthi/MASAR/blob/main/Data%20Types%20and%20If%20Statement%20Practices%20.ipynb\" target=\"_parent\"><img src=\"https://colab.research.google.com/assets/colab-badge.svg\" alt=\"Open In Colab\"/></a>"
      ]
    },
    {
      "cell_type": "code",
      "execution_count": 4,
      "metadata": {
        "colab": {
          "base_uri": "https://localhost:8080/"
        },
        "id": "gg3SZUploJud",
        "outputId": "302682e5-d84e-4bb8-e64e-629eb3d37792"
      },
      "outputs": [
        {
          "output_type": "stream",
          "name": "stdout",
          "text": [
            "5\n"
          ]
        }
      ],
      "source": [
        "a = 5\n",
        "print(a)\n"
      ]
    },
    {
      "cell_type": "code",
      "source": [
        "b = 3.5\n",
        "print(type(b))"
      ],
      "metadata": {
        "colab": {
          "base_uri": "https://localhost:8080/"
        },
        "id": "K34oCton0zvR",
        "outputId": "6b54bd73-cdc0-413b-be4b-fd1e74eae681"
      },
      "execution_count": 5,
      "outputs": [
        {
          "output_type": "stream",
          "name": "stdout",
          "text": [
            "<class 'float'>\n"
          ]
        }
      ]
    },
    {
      "cell_type": "code",
      "source": [
        "print(type(False))"
      ],
      "metadata": {
        "colab": {
          "base_uri": "https://localhost:8080/"
        },
        "id": "ogrFDguf1GFn",
        "outputId": "1fc4efeb-790c-4ffe-aa8a-c2ee0de27066"
      },
      "execution_count": 8,
      "outputs": [
        {
          "output_type": "stream",
          "name": "stdout",
          "text": [
            "<class 'bool'>\n"
          ]
        }
      ]
    },
    {
      "cell_type": "code",
      "source": [
        "print(type(True))"
      ],
      "metadata": {
        "colab": {
          "base_uri": "https://localhost:8080/"
        },
        "id": "vrFQ7UA-1is-",
        "outputId": "0e884abf-1bcf-466d-b0fa-798bf3e72c75"
      },
      "execution_count": 9,
      "outputs": [
        {
          "output_type": "stream",
          "name": "stdout",
          "text": [
            "<class 'bool'>\n"
          ]
        }
      ]
    },
    {
      "cell_type": "code",
      "source": [
        "name = \"MAJED\"\n",
        "message = \"I want to be ministrer\"\n",
        "print(\"Name:\",name)\n",
        "print(\"My Message:\",message)"
      ],
      "metadata": {
        "colab": {
          "base_uri": "https://localhost:8080/"
        },
        "id": "bHRl4bnt2p-D",
        "outputId": "cbe61094-9f62-4044-9ada-c9dba3e32cf8"
      },
      "execution_count": 21,
      "outputs": [
        {
          "output_type": "stream",
          "name": "stdout",
          "text": [
            "Name: MAJED\n",
            "My Message: I want to be ministrer\n"
          ]
        }
      ]
    },
    {
      "cell_type": "code",
      "source": [
        "age = 55\n",
        "if age >20:\n",
        "# لازم تحط مسافة قبل print عشان توضح انها تابعة ل if\n",
        " print(\"انت بالغ.\")"
      ],
      "metadata": {
        "colab": {
          "base_uri": "https://localhost:8080/"
        },
        "id": "e8DmkT608ZMi",
        "outputId": "a6fafec9-df71-478a-c382-9d4cf807741a"
      },
      "execution_count": 38,
      "outputs": [
        {
          "output_type": "stream",
          "name": "stdout",
          "text": [
            "انت بالغ.\n"
          ]
        }
      ]
    },
    {
      "cell_type": "code",
      "source": [
        "age = 25\n",
        "if age > 26:\n",
        "  print(\"Rejected\")\n",
        "else:\n",
        "    print(\"Accepted\")"
      ],
      "metadata": {
        "colab": {
          "base_uri": "https://localhost:8080/"
        },
        "id": "taI7PNJVAOjW",
        "outputId": "80d62d02-f357-441d-fc0f-6ff95230fdb8"
      },
      "execution_count": 41,
      "outputs": [
        {
          "output_type": "stream",
          "name": "stdout",
          "text": [
            "Accepted\n"
          ]
        }
      ]
    },
    {
      "cell_type": "code",
      "source": [
        "check = True\n",
        "if check == True:\n",
        "  # دبل يساوي معناته مقارنة .. لأنه اذا حطيت يساوي واحد راح يكون كأنه معناه عدل لي ع المتغير تشيك\n",
        "  print(\"check is True\")\n",
        "else:\n",
        " print(\"check is False\")\n"
      ],
      "metadata": {
        "colab": {
          "base_uri": "https://localhost:8080/"
        },
        "id": "iHQi6-VLCcdd",
        "outputId": "bf4131a1-3834-4ae8-e89a-f1cea8f0deae"
      },
      "execution_count": 45,
      "outputs": [
        {
          "output_type": "stream",
          "name": "stdout",
          "text": [
            "check is True\n"
          ]
        }
      ]
    }
  ]
}